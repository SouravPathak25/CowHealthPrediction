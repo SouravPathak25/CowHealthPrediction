{
 "cells": [
  {
   "cell_type": "markdown",
   "id": "c20afd3f",
   "metadata": {
    "id": "c20afd3f"
   },
   "source": [
    "# CNN MODEL TO PREDICT HEALTH OF COW"
   ]
  },
  {
   "cell_type": "markdown",
   "id": "e4bacf3b",
   "metadata": {
    "id": "e4bacf3b"
   },
   "source": [
    "#### Importing Libraries"
   ]
  },
  {
   "cell_type": "code",
   "execution_count": 7,
   "id": "d4941c07",
   "metadata": {
    "id": "d4941c07"
   },
   "outputs": [],
   "source": [
    "import pandas as pd\n",
    "import numpy as np\n",
    "import matplotlib.pyplot as plt\n",
    "from sklearn.model_selection import train_test_split\n",
    "from sklearn.metrics import accuracy_score\n",
    "from tensorflow.keras.models import Sequential\n",
    "from tensorflow.keras.layers import Dense\n",
    "from tensorflow.keras.callbacks import EarlyStopping\n",
    "import seaborn as sns"
   ]
  },
  {
   "cell_type": "markdown",
   "id": "615b247f",
   "metadata": {
    "id": "615b247f"
   },
   "source": [
    "#### Loading the data"
   ]
  },
  {
   "cell_type": "code",
   "execution_count": 8,
   "id": "090ee162",
   "metadata": {
    "id": "090ee162"
   },
   "outputs": [],
   "source": [
    "df = pd.read_excel('Finaldata.xlsx')"
   ]
  },
  {
   "cell_type": "markdown",
   "id": "a895fb6b",
   "metadata": {
    "id": "a895fb6b"
   },
   "source": [
    "#### Preprocessing of the data"
   ]
  },
  {
   "cell_type": "code",
   "execution_count": 9,
   "id": "54c4d64d",
   "metadata": {
    "id": "54c4d64d"
   },
   "outputs": [],
   "source": [
    "df['Condition'] = df['Condition'].replace('Healthy', 1)\n",
    "df['Condition'] = df['Condition'].replace('Not Healthy', 0)\n",
    "X = df.drop(['Condition', 'time'], axis=1)\n",
    "y = df['Condition']\n"
   ]
  },
  {
   "cell_type": "markdown",
   "id": "ecc8688e",
   "metadata": {
    "id": "ecc8688e"
   },
   "source": [
    "#### Splitting the data into training and testing sets"
   ]
  },
  {
   "cell_type": "code",
   "execution_count": 10,
   "id": "8f9e54c1",
   "metadata": {
    "id": "8f9e54c1"
   },
   "outputs": [],
   "source": [
    "X_train, X_test, y_train, y_test = train_test_split(X, y, test_size=0.3, random_state=0)\n"
   ]
  },
  {
   "cell_type": "markdown",
   "id": "26e7dafb",
   "metadata": {
    "id": "26e7dafb"
   },
   "source": [
    "#### Defining the CNN model"
   ]
  },
  {
   "cell_type": "code",
   "execution_count": 11,
   "id": "f2cc017c",
   "metadata": {
    "id": "f2cc017c"
   },
   "outputs": [],
   "source": [
    "model = Sequential()\n",
    "model.add(Dense(32, activation='relu', input_shape=(X_train.shape[1],)))\n",
    "model.add(Dense(64, activation='relu'))\n",
    "model.add(Dense(1, activation='sigmoid'))"
   ]
  },
  {
   "cell_type": "markdown",
   "id": "147e25e6",
   "metadata": {
    "id": "147e25e6"
   },
   "source": [
    "#### Compiling the model"
   ]
  },
  {
   "cell_type": "code",
   "execution_count": 12,
   "id": "dd1e6010",
   "metadata": {
    "id": "dd1e6010"
   },
   "outputs": [],
   "source": [
    "model.compile(optimizer='adam', loss='binary_crossentropy', metrics=['accuracy'])\n"
   ]
  },
  {
   "cell_type": "markdown",
   "id": "50b850c9",
   "metadata": {
    "id": "50b850c9"
   },
   "source": [
    "#### Train the model"
   ]
  },
  {
   "cell_type": "code",
   "execution_count": 15,
   "id": "2e3ea291",
   "metadata": {
    "id": "2e3ea291",
    "outputId": "1862d814-ace1-4c33-c83f-55b5a3526373"
   },
   "outputs": [
    {
     "name": "stdout",
     "output_type": "stream",
     "text": [
      "Epoch 1/50\n",
      "22/22 [==============================] - 0s 5ms/step - loss: 0.2432 - accuracy: 0.9186 - val_loss: 0.2414 - val_accuracy: 0.9033\n",
      "Epoch 2/50\n",
      "22/22 [==============================] - 0s 4ms/step - loss: 0.2307 - accuracy: 0.9271 - val_loss: 0.2323 - val_accuracy: 0.9133\n",
      "Epoch 3/50\n",
      "22/22 [==============================] - 0s 4ms/step - loss: 0.2246 - accuracy: 0.9357 - val_loss: 0.2264 - val_accuracy: 0.9100\n",
      "Epoch 4/50\n",
      "22/22 [==============================] - 0s 3ms/step - loss: 0.2351 - accuracy: 0.9186 - val_loss: 0.2213 - val_accuracy: 0.9133\n",
      "Epoch 5/50\n",
      "22/22 [==============================] - 0s 4ms/step - loss: 0.2281 - accuracy: 0.9157 - val_loss: 0.2154 - val_accuracy: 0.9300\n",
      "Epoch 6/50\n",
      "22/22 [==============================] - 0s 4ms/step - loss: 0.2313 - accuracy: 0.9200 - val_loss: 0.2195 - val_accuracy: 0.9167\n",
      "Epoch 7/50\n",
      "22/22 [==============================] - 0s 3ms/step - loss: 0.2293 - accuracy: 0.9186 - val_loss: 0.2751 - val_accuracy: 0.8767\n",
      "Epoch 8/50\n",
      "22/22 [==============================] - 0s 3ms/step - loss: 0.2264 - accuracy: 0.8971 - val_loss: 0.2054 - val_accuracy: 0.9200\n",
      "Epoch 9/50\n",
      "22/22 [==============================] - 0s 3ms/step - loss: 0.2032 - accuracy: 0.9257 - val_loss: 0.2085 - val_accuracy: 0.9200\n",
      "Epoch 10/50\n",
      "22/22 [==============================] - 0s 3ms/step - loss: 0.2126 - accuracy: 0.9386 - val_loss: 0.1976 - val_accuracy: 0.9267\n",
      "Epoch 11/50\n",
      "22/22 [==============================] - 0s 3ms/step - loss: 0.1960 - accuracy: 0.9229 - val_loss: 0.2188 - val_accuracy: 0.9100\n",
      "Epoch 12/50\n",
      "22/22 [==============================] - 0s 4ms/step - loss: 0.1955 - accuracy: 0.9357 - val_loss: 0.1908 - val_accuracy: 0.9267\n",
      "Epoch 13/50\n",
      "22/22 [==============================] - 0s 3ms/step - loss: 0.1862 - accuracy: 0.9371 - val_loss: 0.1893 - val_accuracy: 0.9267\n",
      "Epoch 14/50\n",
      "22/22 [==============================] - 0s 4ms/step - loss: 0.1921 - accuracy: 0.9314 - val_loss: 0.1848 - val_accuracy: 0.9267\n",
      "Epoch 15/50\n",
      "22/22 [==============================] - 0s 3ms/step - loss: 0.1850 - accuracy: 0.9386 - val_loss: 0.2840 - val_accuracy: 0.8533\n",
      "Epoch 16/50\n",
      "22/22 [==============================] - 0s 3ms/step - loss: 0.2050 - accuracy: 0.9129 - val_loss: 0.1926 - val_accuracy: 0.9133\n",
      "Epoch 17/50\n",
      "22/22 [==============================] - 0s 3ms/step - loss: 0.1867 - accuracy: 0.9514 - val_loss: 0.1843 - val_accuracy: 0.9333\n",
      "Epoch 18/50\n",
      "22/22 [==============================] - 0s 3ms/step - loss: 0.1810 - accuracy: 0.9314 - val_loss: 0.1750 - val_accuracy: 0.9333\n",
      "Epoch 19/50\n",
      "22/22 [==============================] - 0s 3ms/step - loss: 0.1809 - accuracy: 0.9443 - val_loss: 0.1917 - val_accuracy: 0.9200\n",
      "Epoch 20/50\n",
      "22/22 [==============================] - 0s 3ms/step - loss: 0.1750 - accuracy: 0.9414 - val_loss: 0.1727 - val_accuracy: 0.9267\n",
      "Epoch 21/50\n",
      "22/22 [==============================] - 0s 3ms/step - loss: 0.1998 - accuracy: 0.9043 - val_loss: 0.2090 - val_accuracy: 0.9100\n",
      "Epoch 22/50\n",
      "22/22 [==============================] - 0s 4ms/step - loss: 0.1815 - accuracy: 0.9329 - val_loss: 0.1835 - val_accuracy: 0.9167\n",
      "Epoch 23/50\n",
      "22/22 [==============================] - 0s 3ms/step - loss: 0.1922 - accuracy: 0.9214 - val_loss: 0.1655 - val_accuracy: 0.9300\n",
      "Epoch 24/50\n",
      "22/22 [==============================] - 0s 4ms/step - loss: 0.1813 - accuracy: 0.9257 - val_loss: 0.2055 - val_accuracy: 0.8933\n",
      "Epoch 25/50\n",
      "22/22 [==============================] - 0s 3ms/step - loss: 0.1705 - accuracy: 0.9443 - val_loss: 0.1903 - val_accuracy: 0.9200\n",
      "Epoch 26/50\n",
      "22/22 [==============================] - 0s 3ms/step - loss: 0.1795 - accuracy: 0.9314 - val_loss: 0.1789 - val_accuracy: 0.9300\n"
     ]
    }
   ],
   "source": [
    "epochs = 50\n",
    "history = model.fit(X_train, y_train, validation_data=(X_test, y_test), epochs=epochs, batch_size=32,\n",
    "                    callbacks=[EarlyStopping(patience=3)])\n"
   ]
  },
  {
   "cell_type": "markdown",
   "id": "74a8333f",
   "metadata": {
    "id": "74a8333f"
   },
   "source": [
    "#### Evaluating the model"
   ]
  },
  {
   "cell_type": "code",
   "execution_count": 16,
   "id": "0dc0e60d",
   "metadata": {
    "id": "0dc0e60d",
    "outputId": "15e04afe-f84c-4b8d-dd29-529cc7784601"
   },
   "outputs": [
    {
     "name": "stdout",
     "output_type": "stream",
     "text": [
      "10/10 [==============================] - 0s 1ms/step\n",
      "Accuracy: 0.93\n"
     ]
    }
   ],
   "source": [
    "\n",
    "y_pred_probs = model.predict(X_test)\n",
    "y_pred = np.round(y_pred_probs).flatten().astype(int)\n",
    "cnn_acc = accuracy_score(y_test, y_pred)\n",
    "print(\"Accuracy:\", cnn_acc)"
   ]
  },
  {
   "cell_type": "markdown",
   "id": "9c918cb2",
   "metadata": {
    "id": "9c918cb2"
   },
   "source": [
    "#### Plotting the error over time"
   ]
  },
  {
   "cell_type": "code",
   "execution_count": null,
   "id": "b7a59fbe",
   "metadata": {
    "id": "b7a59fbe",
    "outputId": "952d23e4-428e-4379-c463-9bde040be993"
   },
   "outputs": [
    {
     "data": {
      "image/png": "[encoded data removed]",
      "text/plain": [
       "<Figure size 640x480 with 1 Axes>"
      ]
     },
     "metadata": {},
     "output_type": "display_data"
    }
   ],
   "source": [
    "\n",
    "plt.plot(history.history['loss'], label='Training Loss')\n",
    "plt.plot(history.history['val_loss'], label='Validation Loss')\n",
    "plt.title('CNN Error')\n",
    "plt.xlabel('Epochs')\n",
    "plt.ylabel('Loss')\n",
    "plt.legend()\n",
    "plt.show()"
   ]
  },
  {
   "cell_type": "markdown",
   "id": "6b44608c",
   "metadata": {
    "id": "6b44608c"
   },
   "source": [
    "## Testing our model"
   ]
  },
  {
   "cell_type": "code",
   "execution_count": null,
   "id": "397d240b",
   "metadata": {
    "id": "397d240b",
    "outputId": "13dd11a9-e69c-4052-e6ff-a32887831280"
   },
   "outputs": [
    {
     "name": "stdout",
     "output_type": "stream",
     "text": [
      "1/1 [==============================] - 0s 23ms/step\n",
      "1/1 [==============================] - 0s 19ms/step\n",
      "1/1 [==============================] - 0s 20ms/step\n",
      "1/1 [==============================] - 0s 20ms/step\n",
      "1/1 [==============================] - 0s 21ms/step\n",
      "1/1 [==============================] - 0s 21ms/step\n",
      "1/1 [==============================] - 0s 22ms/step\n",
      "1/1 [==============================] - 0s 20ms/step\n",
      "1/1 [==============================] - 0s 20ms/step\n",
      "Prediction: Unhealthy\n"
     ]
    }
   ],
   "source": [
    "import numpy as np\n",
    "\n",
    "input_data = np.array([[84, 47, 22.69782519, 37.91468594, 27.647046],\n",
    "                      [56, 35, 67.21726468, 39.36215313, 30.34192818],\n",
    "                      [81, 27, 76.37841651, 38.24689714, 37.0611],\n",
    "                      [81, 26, 58.15401845, 39.42933382, 37.50479242],\n",
    "                      [48, 30, 68.51330954, 37.93718252, 33.855696],\n",
    "                      [65, 45, 63.04909213, 38.46855599, 33.88761641],\n",
    "                      [88, 47, 55.89092663, 38.07286229, 24.87647242],\n",
    "                      [85, 29, 35.40760642, 38.36660592, 37.95852433],\n",
    "                      [46, 45, 48.99062459, 39.13010002, 35.84968941]])\n",
    "\n",
    "count_1 = 0\n",
    "count_0 = 0\n",
    "\n",
    "for i in range(len(input_data)):\n",
    "    timestep_input = input_data[i]\n",
    "    prediction = model.predict(timestep_input.reshape(1, -1))\n",
    "    predicted_class = np.round(prediction).flatten().astype(int)[0]\n",
    "\n",
    "    if predicted_class == 1:\n",
    "        count_1 += 1\n",
    "    else:\n",
    "        count_0 += 1\n",
    "\n",
    "# Determine the maximum occurrence and return the corresponding value\n",
    "if count_1 > count_0:\n",
    "    result = 'Healthy'\n",
    "else:\n",
    "    result = 'Unhealthy'\n",
    "\n",
    "print(\"Prediction:\", result)\n"
   ]
  },
  {
   "cell_type": "code",
   "execution_count": null,
   "id": "25e66f73",
   "metadata": {
    "id": "25e66f73"
   },
   "outputs": [],
   "source": []
  }
 ],
 "metadata": {
  "colab": {
   "provenance": []
  },
  "kernelspec": {
   "display_name": "Python 3 (ipykernel)",
   "language": "python",
   "name": "python3"
  },
  "language_info": {
   "codemirror_mode": {
    "name": "ipython",
    "version": 3
   },
   "file_extension": ".py",
   "mimetype": "text/x-python",
   "name": "python",
   "nbconvert_exporter": "python",
   "pygments_lexer": "ipython3",
   "version": "3.9.13"
  }
 },
 "nbformat": 4,
 "nbformat_minor": 5
}
